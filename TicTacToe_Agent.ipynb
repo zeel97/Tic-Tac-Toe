{
 "cells": [
  {
   "cell_type": "markdown",
   "metadata": {
    "colab_type": "text",
    "id": "rznSDgbvGggG"
   },
   "source": [
    "## Tic-Tac-Toe Agent\n",
    "​\n",
    "In this notebook, you will learn to build an RL agent (using Q-learning) that learns to play Numerical Tic-Tac-Toe with odd numbers. The environment is playing randomly with the agent, i.e. its strategy is to put an even number randomly in an empty cell. The following is the layout of the notebook:\n",
    "        - Defining epsilon-greedy strategy\n",
    "        - Tracking state-action pairs for convergence\n",
    "        - Define hyperparameters for the Q-learning algorithm\n",
    "        - Generating episode and applying Q-update equation\n",
    "        - Checking convergence in Q-values"
   ]
  },
  {
   "cell_type": "markdown",
   "metadata": {
    "colab_type": "text",
    "id": "8eDb8PxBGggH"
   },
   "source": [
    "#### Importing libraries\n",
    "Write the code to import Tic-Tac-Toe class from the environment file"
   ]
  },
  {
   "cell_type": "code",
   "execution_count": 1,
   "metadata": {
    "colab": {},
    "colab_type": "code",
    "id": "6SFNYceFGggJ"
   },
   "outputs": [],
   "source": [
    "from TCGame_Env1 import TicTacToe #import your class from environment file\n",
    "import collections\n",
    "import numpy as np\n",
    "from numpy import nan\n",
    "import random\n",
    "import pickle\n",
    "import time\n",
    "from matplotlib import pyplot as plt"
   ]
  },
  {
   "cell_type": "code",
   "execution_count": 2,
   "metadata": {
    "colab": {},
    "colab_type": "code",
    "id": "wYLQyopEG8nz"
   },
   "outputs": [],
   "source": [
    "# Function to convert state array into a string to store it as keys in the dictionary\n",
    "# states in Q-dictionary will be of form: x-4-5-3-8-x-x-x-x\n",
    "#   x | 4 | 5\n",
    "#   ----------\n",
    "#   3 | 8 | x\n",
    "#   ----------\n",
    "#   x | x | x\n",
    "\n",
    "def Q_state(state):\n",
    "\n",
    "    return ('-'.join(str(e) for e in state)).replace('nan','x')"
   ]
  },
  {
   "cell_type": "code",
   "execution_count": 3,
   "metadata": {
    "colab": {},
    "colab_type": "code",
    "id": "ZebMOoiVHBBr"
   },
   "outputs": [],
   "source": [
    "# Defining a function which will return valid (all possible actions) actions corresponding to a state\n",
    "# Important to avoid errors during deployment.\n",
    "\n",
    "def valid_actions(state):\n",
    "    \n",
    "    valid_Actions = []\n",
    "    \n",
    "    valid_Actions = [i for i in env.action_space(state)[0]] ###### -------please call your environment as env\n",
    "    return valid_Actions"
   ]
  },
  {
   "cell_type": "code",
   "execution_count": 4,
   "metadata": {
    "colab": {},
    "colab_type": "code",
    "id": "IRciPUkYHDWf"
   },
   "outputs": [],
   "source": [
    "# Defining a function which will add new Q-values to the Q-dictionary. \n",
    "def add_to_dict(state):\n",
    "    state1 = Q_state(state)\n",
    "    \n",
    "    valid_act = valid_actions(state)\n",
    "    if state1 not in Q_dict.keys():\n",
    "        for action in valid_act:\n",
    "            Q_dict[state1][action]=0.0"
   ]
  },
  {
   "cell_type": "markdown",
   "metadata": {
    "colab_type": "text",
    "id": "fNNi_EfHGggM"
   },
   "source": [
    "#### Epsilon-greedy strategy - Write your code here\n",
    "\n",
    "(you can build your epsilon-decay function similar to the one given at the end of the notebook)"
   ]
  },
  {
   "cell_type": "code",
   "execution_count": 5,
   "metadata": {
    "colab": {},
    "colab_type": "code",
    "id": "m0lMfqiJGggN"
   },
   "outputs": [],
   "source": [
    "# Defining epsilon-greedy policy. You can choose any function epsilon-decay strategy\n",
    "def epsilon_greedy(state, time):\n",
    "    epsilon = - 1/ (1 + np.exp((-time+7000)/1700)) + 1\n",
    "    z = np.random.random()\n",
    "        \n",
    "    if z > epsilon:\n",
    "        state = Q_state(state)\n",
    "        action = max(Q_dict[state],key=Q_dict[state].get) \n",
    "        return action#Exploitation: this gets the action corresponding to max q-value of current state\n",
    "    else:\n",
    "        action_avail = valid_actions(state)\n",
    "        if len(action_avail) > 0:\n",
    "            random = np.random.choice(len(action_avail))\n",
    "            action = action_avail[random]   #Exploration: randomly choosing and action\n",
    "            return action\n",
    "        \n",
    "    "
   ]
  },
  {
   "cell_type": "markdown",
   "metadata": {
    "colab_type": "text",
    "id": "H2kyQHOMGggR"
   },
   "source": [
    "#### Tracking the state-action pairs for checking convergence - write your code here"
   ]
  },
  {
   "cell_type": "code",
   "execution_count": 6,
   "metadata": {
    "colab": {},
    "colab_type": "code",
    "id": "qcxZ29vdGggS"
   },
   "outputs": [
    {
     "name": "stdout",
     "output_type": "stream",
     "text": [
      "0\n",
      "0\n"
     ]
    }
   ],
   "source": [
    "# Initialise Q_dictionary as 'Q_dict' and States_tracked as 'States_track' (for convergence)\n",
    "Q_dict = collections.defaultdict(dict)\n",
    "States_track = collections.defaultdict(dict)\n",
    "\n",
    "print(len(Q_dict))\n",
    "print(len(States_track))"
   ]
  },
  {
   "cell_type": "code",
   "execution_count": 15,
   "metadata": {
    "colab": {},
    "colab_type": "code",
    "id": "vs73iv8fHOxV"
   },
   "outputs": [],
   "source": [
    "# Initialise states to be tracked\n",
    "def initialise_tracking_states():\n",
    "  \n",
    "    sample_q_values = [(('x-x-x-x-x-x-x-x-x'),(7,5)),\n",
    "                      (('3-6-4-1-7-8-x-x-x'),(8,5)),\n",
    "                      (('5-x-x-x-x-x-x-4-x'),(2,7)),\n",
    "                      (('8-5-4-7-x-2-3-9-6'),(4,1))]    #select any 4 Q-values\n",
    "    for q_values in sample_q_values:\n",
    "        state = q_values[0]\n",
    "        action = q_values[1]\n",
    "        States_track[state][action] = []    #this is an array which will have appended values of that state-action pair        "
   ]
  },
  {
   "cell_type": "code",
   "execution_count": 8,
   "metadata": {
    "colab": {},
    "colab_type": "code",
    "id": "dAbwJDMVHpwl"
   },
   "outputs": [],
   "source": [
    "#Defining a function to save the Q-dictionary as a pickle file\n",
    "\n",
    "def save_obj(obj, name ):\n",
    "    with open(name + '.pkl', 'wb') as f:\n",
    "        pickle.dump(obj, f, pickle.HIGHEST_PROTOCOL)"
   ]
  },
  {
   "cell_type": "code",
   "execution_count": 9,
   "metadata": {
    "colab": {},
    "colab_type": "code",
    "id": "6Pyj7nMVHsBi"
   },
   "outputs": [],
   "source": [
    "def save_tracking_states():\n",
    "    for state in States_track.keys():\n",
    "        for action in States_track[state].keys():\n",
    "            if state in Q_dict and action in Q_dict[state]:\n",
    "                States_track[state][action].append(Q_dict[state][action])"
   ]
  },
  {
   "cell_type": "code",
   "execution_count": 16,
   "metadata": {
    "colab": {},
    "colab_type": "code",
    "id": "B_8xSluUHvew"
   },
   "outputs": [],
   "source": [
    "initialise_tracking_states()"
   ]
  },
  {
   "cell_type": "markdown",
   "metadata": {
    "colab_type": "text",
    "id": "-iPt--E9GggV"
   },
   "source": [
    "#### Define hyperparameters  ---write your code here"
   ]
  },
  {
   "cell_type": "code",
   "execution_count": 11,
   "metadata": {
    "colab": {},
    "colab_type": "code",
    "id": "G0_f5czFGggW"
   },
   "outputs": [],
   "source": [
    "#Defining parameters for the experiment\n",
    "\n",
    "# EPISODES = 20\n",
    "EPISODES = 50000        \n",
    "LR = 0.01            #learning rate\n",
    "GAMMA = 0.85\n",
    "\n",
    "\n",
    "threshold = 2000       #every these many episodes, the 4 Q-values will be stored/appended (convergence graphs)\n",
    "# threshold = 1\n",
    "policy_threshold = 3000    #every these many episodes, the Q-dict will be updated\n",
    "# policy_threshold = 3"
   ]
  },
  {
   "cell_type": "markdown",
   "metadata": {
    "colab_type": "text",
    "id": "Md6twJ7wGggh"
   },
   "source": [
    "### Q-update loop ---write your code here"
   ]
  },
  {
   "cell_type": "code",
   "execution_count": 12,
   "metadata": {
    "colab": {},
    "colab_type": "code",
    "id": "ldCgQuDNGggj",
    "scrolled": true
   },
   "outputs": [
    {
     "name": "stdout",
     "output_type": "stream",
     "text": [
      "('Games Played', 999)\n",
      "('Games Played', 1999)\n",
      "('Games Played', 2999)\n",
      "('Games Played', 3999)\n",
      "('Games Played', 4999)\n",
      "('Games Played', 5999)\n",
      "('Games Played', 6999)\n",
      "('Games Played', 7999)\n",
      "('Games Played', 8999)\n",
      "('Games Played', 9999)\n",
      "('Games Played', 10999)\n",
      "('Games Played', 11999)\n",
      "('Games Played', 12999)\n",
      "('Games Played', 13999)\n",
      "('Games Played', 14999)\n",
      "('Games Played', 15999)\n",
      "('Games Played', 16999)\n",
      "('Games Played', 17999)\n",
      "('Games Played', 18999)\n",
      "('Games Played', 19999)\n",
      "('Games Played', 20999)\n",
      "('Games Played', 21999)\n",
      "('Games Played', 22999)\n",
      "('Games Played', 23999)\n",
      "('Games Played', 24999)\n",
      "('Games Played', 25999)\n",
      "('Games Played', 26999)\n",
      "('Games Played', 27999)\n",
      "('Games Played', 28999)\n",
      "('Games Played', 29999)\n",
      "('Games Played', 30999)\n",
      "('Games Played', 31999)\n",
      "('Games Played', 32999)\n",
      "('Games Played', 33999)\n",
      "('Games Played', 34999)\n",
      "('Games Played', 35999)\n",
      "('Games Played', 36999)\n",
      "('Games Played', 37999)\n",
      "('Games Played', 38999)\n",
      "('Games Played', 39999)\n"
     ]
    },
    {
     "ename": "KeyboardInterrupt",
     "evalue": "",
     "output_type": "error",
     "traceback": [
      "\u001b[0;31m---------------------------------------------------------------------------\u001b[0m",
      "\u001b[0;31mKeyboardInterrupt\u001b[0m                         Traceback (most recent call last)",
      "\u001b[0;32m<ipython-input-12-44f393352f3a>\u001b[0m in \u001b[0;36m<module>\u001b[0;34m()\u001b[0m\n\u001b[1;32m     26\u001b[0m         \u001b[0mnext_state\u001b[0m\u001b[0;34m,\u001b[0m \u001b[0mreward\u001b[0m\u001b[0;34m,\u001b[0m \u001b[0mterminal\u001b[0m \u001b[0;34m=\u001b[0m \u001b[0menv\u001b[0m\u001b[0;34m.\u001b[0m\u001b[0mstep\u001b[0m\u001b[0;34m(\u001b[0m\u001b[0mcurr_state\u001b[0m\u001b[0;34m,\u001b[0m \u001b[0mcurr_action\u001b[0m\u001b[0;34m)\u001b[0m\u001b[0;34m\u001b[0m\u001b[0m\n\u001b[1;32m     27\u001b[0m \u001b[0;34m\u001b[0m\u001b[0m\n\u001b[0;32m---> 28\u001b[0;31m         \u001b[0madd_to_dict\u001b[0m\u001b[0;34m(\u001b[0m\u001b[0mnext_state\u001b[0m\u001b[0;34m)\u001b[0m\u001b[0;34m\u001b[0m\u001b[0m\n\u001b[0m\u001b[1;32m     29\u001b[0m \u001b[0;34m\u001b[0m\u001b[0m\n\u001b[1;32m     30\u001b[0m         \u001b[0;31m#Q-value update sequence\u001b[0m\u001b[0;34m\u001b[0m\u001b[0;34m\u001b[0m\u001b[0m\n",
      "\u001b[0;32m<ipython-input-4-4e11f842b03e>\u001b[0m in \u001b[0;36madd_to_dict\u001b[0;34m(state)\u001b[0m\n\u001b[1;32m      4\u001b[0m \u001b[0;34m\u001b[0m\u001b[0m\n\u001b[1;32m      5\u001b[0m     \u001b[0mvalid_act\u001b[0m \u001b[0;34m=\u001b[0m \u001b[0mvalid_actions\u001b[0m\u001b[0;34m(\u001b[0m\u001b[0mstate\u001b[0m\u001b[0;34m)\u001b[0m\u001b[0;34m\u001b[0m\u001b[0m\n\u001b[0;32m----> 6\u001b[0;31m     \u001b[0;32mif\u001b[0m \u001b[0mstate1\u001b[0m \u001b[0;32mnot\u001b[0m \u001b[0;32min\u001b[0m \u001b[0mQ_dict\u001b[0m\u001b[0;34m.\u001b[0m\u001b[0mkeys\u001b[0m\u001b[0;34m(\u001b[0m\u001b[0;34m)\u001b[0m\u001b[0;34m:\u001b[0m\u001b[0;34m\u001b[0m\u001b[0m\n\u001b[0m\u001b[1;32m      7\u001b[0m         \u001b[0;32mfor\u001b[0m \u001b[0maction\u001b[0m \u001b[0;32min\u001b[0m \u001b[0mvalid_act\u001b[0m\u001b[0;34m:\u001b[0m\u001b[0;34m\u001b[0m\u001b[0m\n\u001b[1;32m      8\u001b[0m             \u001b[0mQ_dict\u001b[0m\u001b[0;34m[\u001b[0m\u001b[0mstate1\u001b[0m\u001b[0;34m]\u001b[0m\u001b[0;34m[\u001b[0m\u001b[0maction\u001b[0m\u001b[0;34m]\u001b[0m\u001b[0;34m=\u001b[0m\u001b[0;36m0.0\u001b[0m\u001b[0;34m\u001b[0m\u001b[0m\n",
      "\u001b[0;31mKeyboardInterrupt\u001b[0m: "
     ]
    }
   ],
   "source": [
    "# start_time = time.time()\n",
    "win,tie,lost,total_reward = [0,0,0,0]\n",
    "\n",
    "for episode in range(0,EPISODES):\n",
    "    ##### Start writing your code from the next line\n",
    "    env = TicTacToe()      #creating an instance of the class\n",
    "    \n",
    "    #get initial state\n",
    "    curr_state = env.state     \n",
    "    \n",
    "    add_to_dict(curr_state)\n",
    "    \n",
    "    actions_avail = valid_actions(curr_state) #get available actions\n",
    "    random = np.random.choice(len(actions_avail))\n",
    "    curr_action = actions_avail[random] #choosing a random action\n",
    "        \n",
    "    terminal_val = False\n",
    "    \n",
    "    while terminal_val is not True:    #run as long as the game is not over. Eg: terminal state not achieved\n",
    "        \n",
    "        curr_action = epsilon_greedy(curr_state, episode)\n",
    "                \n",
    "        Q_curr_state = Q_state(curr_state)\n",
    "                        \n",
    "        #take action based on action returned from the epsilon greedy strategy\n",
    "        next_state, reward, terminal = env.step(curr_state, curr_action)\n",
    "\n",
    "        add_to_dict(next_state)\n",
    "        \n",
    "        #Q-value update sequence \n",
    "        if terminal[0] == False:\n",
    "\n",
    "            # UPDATE RULE\n",
    "            Q_next_state = Q_state(next_state)\n",
    "            max_next = max(Q_dict[Q_next_state],key=Q_dict[Q_next_state].get)   #this gets the action corresponding to max q-value of next state\n",
    "            Q_dict[Q_curr_state][curr_action] += LR * ((reward + (GAMMA*(Q_dict[Q_next_state][max_next]))) - Q_dict[Q_curr_state][curr_action] ) \n",
    "            curr_state = next_state       #state(t) became state(t-1)\n",
    "            total_reward += reward\n",
    "        \n",
    "        terminal_val = terminal[0]\n",
    "        \n",
    "    #Tracking the agent wins, losses and ties\n",
    "    if reward == 10:\n",
    "        win += 1\n",
    "    elif reward == 0:\n",
    "        tie += 1\n",
    "    else:\n",
    "        lost += 1\n",
    "    \n",
    "    #TRACKING Q-VALUES\n",
    "    if ((episode+1) % threshold) == 0:   \n",
    "        save_tracking_states()\n",
    "        save_obj(States_track,'States_tracked') \n",
    "    \n",
    "    #SAVING POLICY\n",
    "    if ((episode+1)% policy_threshold ) == 0:  \n",
    "        save_obj(Q_dict,'Policy')  \n",
    "    #Check Progress\n",
    "    if ((episode+1) % 1000) == 0:\n",
    "        print('Games Played',episode)\n",
    "            \n",
    "# elapsed_time = time.time() - start_time\n",
    "print('Reward',total_reward)\n",
    "print('Stats:Win-',win,'Tie',tie,\"loss\",lost)\n",
    "save_obj(States_track,'States_tracked')   \n",
    "save_obj(Q_dict,'Policy')"
   ]
  },
  {
   "cell_type": "markdown",
   "metadata": {
    "colab_type": "text",
    "id": "t6eMFbb8Ggg2"
   },
   "source": [
    "#### Check the Q-dictionary"
   ]
  },
  {
   "cell_type": "code",
   "execution_count": null,
   "metadata": {
    "colab": {},
    "colab_type": "code",
    "id": "fr9d2fcVGgg4"
   },
   "outputs": [],
   "source": [
    "Q_dict"
   ]
  },
  {
   "cell_type": "code",
   "execution_count": null,
   "metadata": {
    "colab": {},
    "colab_type": "code",
    "id": "F1tnDJWkGgg9"
   },
   "outputs": [],
   "source": [
    "len(Q_dict)"
   ]
  },
  {
   "cell_type": "code",
   "execution_count": 13,
   "metadata": {},
   "outputs": [
    {
     "data": {
      "text/plain": [
       "defaultdict(dict,\n",
       "            {'3-6-4-1-7-8-x-x-x': {(8, 5): []},\n",
       "             '5-x-x-x-x-x-x-4-x': {(2, 7): [0.0,\n",
       "               0.0,\n",
       "               0.0,\n",
       "               0.0,\n",
       "               0.0,\n",
       "               0.0,\n",
       "               0.0,\n",
       "               0.0,\n",
       "               0.0,\n",
       "               0.0,\n",
       "               0.0,\n",
       "               0.0,\n",
       "               0.0,\n",
       "               0.0,\n",
       "               0.0,\n",
       "               -0.01,\n",
       "               -0.01,\n",
       "               -0.01,\n",
       "               -0.01]},\n",
       "             '8-5-4-7-x-2-3-9-6': {(4, 1): []},\n",
       "             'x-x-x-x-x-x-x-x-x': {(7, 5): [-0.4188335858818902,\n",
       "               -0.5993153470484593,\n",
       "               -0.7372874127497715,\n",
       "               -0.8311778434193093,\n",
       "               -0.8925977942573625,\n",
       "               -0.9309820965002912,\n",
       "               -0.9560918115149285,\n",
       "               -0.9717840886529704,\n",
       "               -0.982049446724955,\n",
       "               -0.9884647662016163,\n",
       "               -0.9926614516791151,\n",
       "               -0.9952841637065404,\n",
       "               -0.9969998533954476,\n",
       "               -0.9981279396675904,\n",
       "               -0.9989014713760783,\n",
       "               -0.9994484551871226,\n",
       "               -1.0000214078558622,\n",
       "               -1.0005137341369212,\n",
       "               -1.0011172054951023,\n",
       "               -1.0018109289254093]}})"
      ]
     },
     "execution_count": 13,
     "metadata": {},
     "output_type": "execute_result"
    }
   ],
   "source": [
    "#reading the tracked Q-values\n",
    "infile = open('States_tracked.pkl','rb')\n",
    "new_dict = pickle.load(infile)\n",
    "new_dict"
   ]
  },
  {
   "cell_type": "code",
   "execution_count": 18,
   "metadata": {
    "colab": {},
    "colab_type": "code",
    "id": "cFgUqfcQGghB"
   },
   "outputs": [
    {
     "name": "stdout",
     "output_type": "stream",
     "text": [
      "(7, 9)\n"
     ]
    }
   ],
   "source": [
    "# try checking for one of the states - that which action your agent thinks is the best  -----This will not be evaluated\n",
    "best_action = max(Q_dict['x-x-x-x-x-x-x-x-x'],key=Q_dict['x-x-x-x-x-x-x-x-x'].get)\n",
    "print(best_action)"
   ]
  },
  {
   "cell_type": "markdown",
   "metadata": {
    "colab_type": "text",
    "id": "KGPZEQDFGghG"
   },
   "source": [
    "#### Check the states tracked for Q-values convergence\n",
    "(non-evaluative)"
   ]
  },
  {
   "cell_type": "code",
   "execution_count": null,
   "metadata": {
    "colab": {},
    "colab_type": "code",
    "id": "pVQInsg7GghL"
   },
   "outputs": [],
   "source": []
  },
  {
   "cell_type": "markdown",
   "metadata": {
    "colab_type": "text",
    "id": "b2Opp8_NITkC"
   },
   "source": [
    "### Epsilon - decay check"
   ]
  },
  {
   "cell_type": "code",
   "execution_count": null,
   "metadata": {
    "colab": {},
    "colab_type": "code",
    "id": "gQ_D_JsuGghR"
   },
   "outputs": [],
   "source": [
    "max_epsilon = 1.0\n",
    "min_epsilon = 0.001\n",
    "time = np.arange(0,5000000)\n",
    "epsilon = []\n",
    "for i in range(0,5000000):\n",
    "    epsilon.append(min_epsilon + (max_epsilon - min_epsilon) * np.exp(-0.000001*i))"
   ]
  },
  {
   "cell_type": "code",
   "execution_count": null,
   "metadata": {
    "colab": {
     "base_uri": "https://localhost:8080/",
     "height": 347
    },
    "colab_type": "code",
    "id": "J7c2xADQGghV",
    "outputId": "cb60fce3-570b-45fb-bd83-abde3d13b273"
   },
   "outputs": [],
   "source": [
    "plt.plot(time, epsilon)\n",
    "plt.show()"
   ]
  },
  {
   "cell_type": "code",
   "execution_count": null,
   "metadata": {
    "colab": {},
    "colab_type": "code",
    "id": "59BRf43IJiQ1"
   },
   "outputs": [],
   "source": []
  }
 ],
 "metadata": {
  "colab": {
   "collapsed_sections": [],
   "name": "TicTacToe_Agent.ipynb",
   "provenance": [],
   "version": "0.3.2"
  },
  "kernelspec": {
   "display_name": "Python 2",
   "language": "python",
   "name": "python2"
  },
  "language_info": {
   "codemirror_mode": {
    "name": "ipython",
    "version": 2
   },
   "file_extension": ".py",
   "mimetype": "text/x-python",
   "name": "python",
   "nbconvert_exporter": "python",
   "pygments_lexer": "ipython2",
   "version": "2.7.15"
  }
 },
 "nbformat": 4,
 "nbformat_minor": 1
}
